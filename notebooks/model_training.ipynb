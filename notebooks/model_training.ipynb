{
 "cells": [
  {
   "cell_type": "markdown",
   "metadata": {},
   "source": [
    "# Imports   "
   ]
  },
  {
   "cell_type": "code",
   "execution_count": 109,
   "metadata": {},
   "outputs": [],
   "source": [
    "import tensorflow as tf\n",
    "import numpy as np\n",
    "import matplotlib.pyplot as plt \n",
    "from PIL import Image, ImageOps"
   ]
  },
  {
   "cell_type": "markdown",
   "metadata": {},
   "source": [
    "# Processing Data"
   ]
  },
  {
   "cell_type": "code",
   "execution_count": 2,
   "metadata": {},
   "outputs": [],
   "source": [
    "mnist = tf.keras.datasets.mnist\n",
    "\n",
    "(x_train, y_train), (x_test, y_test) = mnist.load_data()\n",
    "x_train, x_test = x_train / 255.0, x_test / 255.0"
   ]
  },
  {
   "cell_type": "code",
   "execution_count": 4,
   "metadata": {},
   "outputs": [
    {
     "name": "stdout",
     "output_type": "stream",
     "text": [
      "Shape: (60000, 28, 28)\n",
      "Shape: (60000,)\n",
      "Shape: (10000, 28, 28)\n",
      "Shape: (10000,)\n"
     ]
    }
   ],
   "source": [
    "for data_set in (x_train, y_train, x_test, y_test):\n",
    "    print(f'Shape: {data_set.shape}') "
   ]
  },
  {
   "cell_type": "markdown",
   "metadata": {},
   "source": [
    "# Training Model"
   ]
  },
  {
   "cell_type": "code",
   "execution_count": 19,
   "metadata": {},
   "outputs": [],
   "source": [
    "model = tf.keras.models.Sequential([\n",
    "  tf.keras.layers.Flatten(input_shape=(28, 28)),\n",
    "  tf.keras.layers.Dense(170, activation='relu'),\n",
    "  tf.keras.layers.Dropout(0.2),\n",
    "  tf.keras.layers.Dense(10)\n",
    "])\n",
    "model = tf.keras.Sequential([model, tf.keras.layers.Softmax()])"
   ]
  },
  {
   "cell_type": "code",
   "execution_count": 20,
   "metadata": {},
   "outputs": [],
   "source": [
    "loss_fn = tf.keras.losses.SparseCategoricalCrossentropy(from_logits=True)"
   ]
  },
  {
   "cell_type": "code",
   "execution_count": 21,
   "metadata": {},
   "outputs": [
    {
     "name": "stdout",
     "output_type": "stream",
     "text": [
      "Model: \"sequential_5\"\n",
      "_________________________________________________________________\n",
      "Layer (type)                 Output Shape              Param #   \n",
      "=================================================================\n",
      "sequential_4 (Sequential)    (None, 10)                135160    \n",
      "_________________________________________________________________\n",
      "softmax_2 (Softmax)          (None, 10)                0         \n",
      "=================================================================\n",
      "Total params: 135,160\n",
      "Trainable params: 135,160\n",
      "Non-trainable params: 0\n",
      "_________________________________________________________________\n"
     ]
    }
   ],
   "source": [
    "model.summary()"
   ]
  },
  {
   "cell_type": "code",
   "execution_count": 22,
   "metadata": {},
   "outputs": [],
   "source": [
    "model.compile(optimizer='adam',\n",
    "              loss=loss_fn,\n",
    "              metrics=['accuracy'])"
   ]
  },
  {
   "cell_type": "code",
   "execution_count": 23,
   "metadata": {},
   "outputs": [
    {
     "name": "stdout",
     "output_type": "stream",
     "text": [
      "Epoch 1/10\n",
      "1875/1875 [==============================] - 2s 862us/step - loss: 1.5730 - accuracy: 0.9047\n",
      "Epoch 2/10\n",
      "1875/1875 [==============================] - 2s 929us/step - loss: 1.5190 - accuracy: 0.9472\n",
      "Epoch 3/10\n",
      "1875/1875 [==============================] - 2s 864us/step - loss: 1.5065 - accuracy: 0.9583\n",
      "Epoch 4/10\n",
      "1875/1875 [==============================] - 2s 869us/step - loss: 1.4998 - accuracy: 0.9639\n",
      "Epoch 5/10\n",
      "1875/1875 [==============================] - 2s 886us/step - loss: 1.4946 - accuracy: 0.9690\n",
      "Epoch 6/10\n",
      "1875/1875 [==============================] - 2s 873us/step - loss: 1.4902 - accuracy: 0.9731\n",
      "Epoch 7/10\n",
      "1875/1875 [==============================] - 2s 862us/step - loss: 1.4878 - accuracy: 0.9751\n",
      "Epoch 8/10\n",
      "1875/1875 [==============================] - 2s 867us/step - loss: 1.4858 - accuracy: 0.9768\n",
      "Epoch 9/10\n",
      "1875/1875 [==============================] - 2s 951us/step - loss: 1.4841 - accuracy: 0.9787\n",
      "Epoch 10/10\n",
      "1875/1875 [==============================] - 2s 887us/step - loss: 1.4829 - accuracy: 0.9795\n"
     ]
    },
    {
     "data": {
      "text/plain": [
       "<tensorflow.python.keras.callbacks.History at 0x1b8153b1ee0>"
      ]
     },
     "execution_count": 23,
     "metadata": {},
     "output_type": "execute_result"
    }
   ],
   "source": [
    "model.fit(x_train, y_train, epochs=10)"
   ]
  },
  {
   "cell_type": "markdown",
   "metadata": {},
   "source": [
    "# Testing Model"
   ]
  },
  {
   "cell_type": "code",
   "execution_count": 24,
   "metadata": {},
   "outputs": [
    {
     "name": "stdout",
     "output_type": "stream",
     "text": [
      "313/313 - 0s - loss: 1.4857 - accuracy: 0.9762\n"
     ]
    },
    {
     "data": {
      "text/plain": [
       "[1.4857282638549805, 0.9761999845504761]"
      ]
     },
     "execution_count": 24,
     "metadata": {},
     "output_type": "execute_result"
    }
   ],
   "source": [
    "model.evaluate(x_test, y_test, verbose=2)"
   ]
  },
  {
   "cell_type": "code",
   "execution_count": 128,
   "metadata": {},
   "outputs": [],
   "source": [
    "def predict_img(x):\n",
    "    img1 = Image.open(x).convert(mode='F')\n",
    "    array1 = (np.array(img1.getdata()).reshape((28,28)) - 225) * -1\n",
    "\n",
    "    reshaped = array1.reshape(28,28)\n",
    "    final_img_data = np.expand_dims(reshaped, axis=0) / 255.0\n",
    "\n",
    "    prediction = model.predict(final_img_data)\n",
    "\n",
    "    return prediction, np.argmax(prediction), plt.imshow(array1)"
   ]
  },
  {
   "cell_type": "code",
   "execution_count": 131,
   "metadata": {},
   "outputs": [
    {
     "data": {
      "text/plain": [
       "(array([[8.3473705e-33, 9.9905044e-01, 2.5446814e-06, 9.4710180e-04,\n",
       "         3.2421701e-37, 4.8649173e-16, 6.2022673e-26, 1.2310714e-24,\n",
       "         5.5471239e-15, 2.5656561e-31]], dtype=float32),\n",
       " 1,\n",
       " <matplotlib.image.AxesImage at 0x1b8328562e0>)"
      ]
     },
     "execution_count": 131,
     "metadata": {},
     "output_type": "execute_result"
    },
    {
     "data": {
      "image/png": "[encoded data removed]",
      "text/plain": [
       "<Figure size 432x288 with 1 Axes>"
      ]
     },
     "metadata": {
      "needs_background": "light"
     },
     "output_type": "display_data"
    }
   ],
   "source": [
    "predict_img('../test_images/drawing.png')"
   ]
  },
  {
   "cell_type": "code",
   "execution_count": null,
   "metadata": {},
   "outputs": [],
   "source": []
  }
 ],
 "metadata": {
  "interpreter": {
   "hash": "bb04143b76cf4aa8b010820e1498da26f1eeac71d04edabfea3b39816255051b"
  },
  "kernelspec": {
   "display_name": "Python 3.8.12 64-bit ('main_env1': conda)",
   "name": "python3"
  },
  "language_info": {
   "codemirror_mode": {
    "name": "ipython",
    "version": 3
   },
   "file_extension": ".py",
   "mimetype": "text/x-python",
   "name": "python",
   "nbconvert_exporter": "python",
   "pygments_lexer": "ipython3",
   "version": "3.8.12"
  },
  "orig_nbformat": 4
 },
 "nbformat": 4,
 "nbformat_minor": 2
}
