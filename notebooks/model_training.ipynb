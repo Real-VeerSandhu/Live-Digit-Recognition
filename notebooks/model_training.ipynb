{
 "cells": [
  {
   "cell_type": "markdown",
   "metadata": {},
   "source": [
    "# Imports   "
   ]
  },
  {
   "cell_type": "code",
   "execution_count": 109,
   "metadata": {},
   "outputs": [],
   "source": [
    "import tensorflow as tf\n",
    "import numpy as np\n",
    "import matplotlib.pyplot as plt \n",
    "from PIL import Image, ImageOps"
   ]
  },
  {
   "cell_type": "markdown",
   "metadata": {},
   "source": [
    "# Processing Data"
   ]
  },
  {
   "cell_type": "code",
   "execution_count": 2,
   "metadata": {},
   "outputs": [],
   "source": [
    "mnist = tf.keras.datasets.mnist\n",
    "\n",
    "(x_train, y_train), (x_test, y_test) = mnist.load_data()\n",
    "x_train, x_test = x_train / 255.0, x_test / 255.0"
   ]
  },
  {
   "cell_type": "code",
   "execution_count": 4,
   "metadata": {},
   "outputs": [
    {
     "name": "stdout",
     "output_type": "stream",
     "text": [
      "Shape: (60000, 28, 28)\n",
      "Shape: (60000,)\n",
      "Shape: (10000, 28, 28)\n",
      "Shape: (10000,)\n"
     ]
    }
   ],
   "source": [
    "for data_set in (x_train, y_train, x_test, y_test):\n",
    "    print(f'Shape: {data_set.shape}') "
   ]
  },
  {
   "cell_type": "markdown",
   "metadata": {},
   "source": [
    "# Training Model"
   ]
  },
  {
   "cell_type": "code",
   "execution_count": 19,
   "metadata": {},
   "outputs": [],
   "source": [
    "model = tf.keras.models.Sequential([\n",
    "  tf.keras.layers.Flatten(input_shape=(28, 28)),\n",
    "  tf.keras.layers.Dense(170, activation='relu'),\n",
    "  tf.keras.layers.Dropout(0.2),\n",
    "  tf.keras.layers.Dense(10)\n",
    "])\n",
    "model = tf.keras.Sequential([model, tf.keras.layers.Softmax()])"
   ]
  },
  {
   "cell_type": "code",
   "execution_count": 20,
   "metadata": {},
   "outputs": [],
   "source": [
    "loss_fn = tf.keras.losses.SparseCategoricalCrossentropy(from_logits=True)"
   ]
  },
  {
   "cell_type": "code",
   "execution_count": 21,
   "metadata": {},
   "outputs": [
    {
     "name": "stdout",
     "output_type": "stream",
     "text": [
      "Model: \"sequential_5\"\n",
      "_________________________________________________________________\n",
      "Layer (type)                 Output Shape              Param #   \n",
      "=================================================================\n",
      "sequential_4 (Sequential)    (None, 10)                135160    \n",
      "_________________________________________________________________\n",
      "softmax_2 (Softmax)          (None, 10)                0         \n",
      "=================================================================\n",
      "Total params: 135,160\n",
      "Trainable params: 135,160\n",
      "Non-trainable params: 0\n",
      "_________________________________________________________________\n"
     ]
    }
   ],
   "source": [
    "model.summary()"
   ]
  },
  {
   "cell_type": "code",
   "execution_count": 22,
   "metadata": {},
   "outputs": [],
   "source": [
    "model.compile(optimizer='adam',\n",
    "              loss=loss_fn,\n",
    "              metrics=['accuracy'])"
   ]
  },
  {
   "cell_type": "code",
   "execution_count": 23,
   "metadata": {},
   "outputs": [
    {
     "name": "stdout",
     "output_type": "stream",
     "text": [
      "Epoch 1/10\n",
      "1875/1875 [==============================] - 2s 862us/step - loss: 1.5730 - accuracy: 0.9047\n",
      "Epoch 2/10\n",
      "1875/1875 [==============================] - 2s 929us/step - loss: 1.5190 - accuracy: 0.9472\n",
      "Epoch 3/10\n",
      "1875/1875 [==============================] - 2s 864us/step - loss: 1.5065 - accuracy: 0.9583\n",
      "Epoch 4/10\n",
      "1875/1875 [==============================] - 2s 869us/step - loss: 1.4998 - accuracy: 0.9639\n",
      "Epoch 5/10\n",
      "1875/1875 [==============================] - 2s 886us/step - loss: 1.4946 - accuracy: 0.9690\n",
      "Epoch 6/10\n",
      "1875/1875 [==============================] - 2s 873us/step - loss: 1.4902 - accuracy: 0.9731\n",
      "Epoch 7/10\n",
      "1875/1875 [==============================] - 2s 862us/step - loss: 1.4878 - accuracy: 0.9751\n",
      "Epoch 8/10\n",
      "1875/1875 [==============================] - 2s 867us/step - loss: 1.4858 - accuracy: 0.9768\n",
      "Epoch 9/10\n",
      "1875/1875 [==============================] - 2s 951us/step - loss: 1.4841 - accuracy: 0.9787\n",
      "Epoch 10/10\n",
      "1875/1875 [==============================] - 2s 887us/step - loss: 1.4829 - accuracy: 0.9795\n"
     ]
    },
    {
     "data": {
      "text/plain": [
       "<tensorflow.python.keras.callbacks.History at 0x1b8153b1ee0>"
      ]
     },
     "execution_count": 23,
     "metadata": {},
     "output_type": "execute_result"
    }
   ],
   "source": [
    "model.fit(x_train, y_train, epochs=10)"
   ]
  },
  {
   "cell_type": "markdown",
   "metadata": {},
   "source": [
    "# Testing Model"
   ]
  },
  {
   "cell_type": "code",
   "execution_count": 24,
   "metadata": {},
   "outputs": [
    {
     "name": "stdout",
     "output_type": "stream",
     "text": [
      "313/313 - 0s - loss: 1.4857 - accuracy: 0.9762\n"
     ]
    },
    {
     "data": {
      "text/plain": [
       "[1.4857282638549805, 0.9761999845504761]"
      ]
     },
     "execution_count": 24,
     "metadata": {},
     "output_type": "execute_result"
    }
   ],
   "source": [
    "model.evaluate(x_test, y_test, verbose=2)"
   ]
  },
  {
   "cell_type": "code",
   "execution_count": 144,
   "metadata": {},
   "outputs": [],
   "source": [
    "def predict_img(x):\n",
    "    img1 = Image.open(x).convert(mode='F')\n",
    "    array1 = (np.array(img1.getdata()).reshape((28,28)) - 255) * -1\n",
    "\n",
    "    reshaped = array1.reshape(28,28)\n",
    "    final_img_data = np.expand_dims(reshaped, axis=0) / 255.0\n",
    "\n",
    "    prediction = model.predict(final_img_data)\n",
    "\n",
    "    plt.imshow(array1)\n",
    "    print('Prediction:', np.argmax(prediction))\n",
    "    print('Output Array:', prediction)\n",
    "    # return prediction, np.argmax(prediction), array1"
   ]
  },
  {
   "cell_type": "code",
   "execution_count": 146,
   "metadata": {},
   "outputs": [
    {
     "name": "stdout",
     "output_type": "stream",
     "text": [
      "Prediction: 6\n",
      "Output Array: [[8.0679510e-26 4.2009283e-38 2.8085087e-14 4.2685163e-38 7.3069248e-07\n",
      "  8.1194527e-18 9.9999928e-01 4.5915739e-37 8.1499133e-21 0.0000000e+00]]\n"
     ]
    },
    {
     "data": {
      "image/png": "[encoded data removed]",
      "text/plain": [
       "<Figure size 432x288 with 1 Axes>"
      ]
     },
     "metadata": {
      "needs_background": "light"
     },
     "output_type": "display_data"
    }
   ],
   "source": [
    "predict_img('../test_images/drawing6.png')"
   ]
  },
  {
   "cell_type": "code",
   "execution_count": 147,
   "metadata": {},
   "outputs": [
    {
     "name": "stdout",
     "output_type": "stream",
     "text": [
      "Prediction: 1\n",
      "Output Array: [[8.3473705e-33 9.9905044e-01 2.5446814e-06 9.4710180e-04 3.2421701e-37\n",
      "  4.8649173e-16 6.2022673e-26 1.2310714e-24 5.5471239e-15 2.5656561e-31]]\n"
     ]
    },
    {
     "data": {
      "image/png": "[encoded data removed]",
      "text/plain": [
       "<Figure size 432x288 with 1 Axes>"
      ]
     },
     "metadata": {
      "needs_background": "light"
     },
     "output_type": "display_data"
    }
   ],
   "source": [
    "predict_img('../test_images/drawing1.png')"
   ]
  },
  {
   "cell_type": "code",
   "execution_count": 152,
   "metadata": {},
   "outputs": [
    {
     "name": "stdout",
     "output_type": "stream",
     "text": [
      "Prediction: 2\n",
      "Output Array: [[1.4400178e-28 5.3023216e-14 1.0000000e+00 6.8324443e-11 1.2255861e-29\n",
      "  5.6212375e-21 1.6622753e-28 9.6900451e-15 4.8710753e-19 6.1035104e-31]]\n"
     ]
    },
    {
     "data": {
      "image/png": "[encoded data removed]",
      "text/plain": [
       "<Figure size 432x288 with 1 Axes>"
      ]
     },
     "metadata": {
      "needs_background": "light"
     },
     "output_type": "display_data"
    }
   ],
   "source": [
    "predict_img('../test_images/drawing2.png')"
   ]
  },
  {
   "cell_type": "code",
   "execution_count": 151,
   "metadata": {},
   "outputs": [
    {
     "name": "stdout",
     "output_type": "stream",
     "text": [
      "Prediction: 3\n",
      "Output Array: [[0.0000000e+00 2.6148634e-23 9.7197311e-31 1.0000000e+00 2.1307062e-32\n",
      "  1.4182117e-28 0.0000000e+00 2.4039790e-29 9.6487603e-32 2.0235281e-28]]\n"
     ]
    },
    {
     "data": {
      "image/png": "[encoded data removed]",
      "text/plain": [
       "<Figure size 432x288 with 1 Axes>"
      ]
     },
     "metadata": {
      "needs_background": "light"
     },
     "output_type": "display_data"
    }
   ],
   "source": [
    "predict_img('../test_images/drawing3.png')"
   ]
  },
  {
   "cell_type": "markdown",
   "metadata": {},
   "source": [
    "# Saving Model"
   ]
  },
  {
   "cell_type": "code",
   "execution_count": 154,
   "metadata": {},
   "outputs": [],
   "source": [
    "model.save('digit_model1.h5')"
   ]
  }
 ],
 "metadata": {
  "interpreter": {
   "hash": "bb04143b76cf4aa8b010820e1498da26f1eeac71d04edabfea3b39816255051b"
  },
  "kernelspec": {
   "display_name": "Python 3.8.12 64-bit ('main_env1': conda)",
   "name": "python3"
  },
  "language_info": {
   "codemirror_mode": {
    "name": "ipython",
    "version": 3
   },
   "file_extension": ".py",
   "mimetype": "text/x-python",
   "name": "python",
   "nbconvert_exporter": "python",
   "pygments_lexer": "ipython3",
   "version": "3.8.12"
  },
  "orig_nbformat": 4
 },
 "nbformat": 4,
 "nbformat_minor": 2
}
